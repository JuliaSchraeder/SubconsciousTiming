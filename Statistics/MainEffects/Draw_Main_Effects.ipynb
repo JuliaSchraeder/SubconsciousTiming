{
 "cells": [
  {
   "cell_type": "markdown",
   "metadata": {},
   "source": [
    "# Skript to visualise behavioural data"
   ]
  },
  {
   "cell_type": "code",
   "execution_count": null,
   "metadata": {},
   "outputs": [],
   "source": [
    "%matplotlib inline\n",
    "import matplotlib.pyplot as plt\n",
    "import matplotlib\n",
    "import numpy as np\n",
    "import pandas as pd\n",
    "import seaborn as sns\n",
    "import pandas as pd\n",
    "import plotly.express as px\n",
    "import plotly.graph_objects as go\n",
    "sns.__version__"
   ]
  },
  {
   "cell_type": "code",
   "execution_count": null,
   "metadata": {},
   "outputs": [],
   "source": [
    "matplotlib.__version__"
   ]
  },
  {
   "cell_type": "markdown",
   "metadata": {},
   "source": [
    "# All Reactions"
   ]
  },
  {
   "cell_type": "code",
   "execution_count": null,
   "metadata": {},
   "outputs": [],
   "source": [
    "#all_reactions = pd.read_csv('/Users/julia/OneDrive - Uniklinik RWTH Aachen/Auswertung/second_level/Reactions_all_selected.csv', delimiter=';')\n",
    "#all_reactions = all_reactions.drop(['Unnamed: 0'], axis=1)\n",
    "##all_reactions"
   ]
  },
  {
   "cell_type": "code",
   "execution_count": null,
   "metadata": {},
   "outputs": [],
   "source": [
    "# Adapted from https://plotly.com/python/box-plots/\n",
    "\n",
    "\n",
    "# neutral gold+yellow\n",
    "# happy light green+lime green\n",
    "# sad light coral+indian red\n",
    "# mean deep sky blue+dodger blue\n",
    "\n",
    "#8 light cyan+powder blue\n",
    "#16 pale turquoise+medium turquoise\n",
    "#25light sky blue+corn flower blue\n",
    "\n",
    "#141 royal blue+blue"
   ]
  },
  {
   "cell_type": "code",
   "execution_count": null,
   "metadata": {
    "scrolled": true
   },
   "outputs": [],
   "source": [
    "all_reactions = pd.read_csv('C:/Users/juhoffmann/OneDrive - Uniklinik RWTH Aachen/Auswertung/Pilot2/SecondLevel/All_Reactions_selected.csv', delimiter=',')\n",
    "all_reactions = all_reactions.drop(['Unnamed: 0'], axis=1)\n",
    "\n",
    "##Create Figure out of Dataframe\n",
    "interactive_all_reactions = go.Figure()\n",
    "\n",
    "##Define Data for different Plots\n",
    "y0 = all_reactions['happy']\n",
    "y1 = all_reactions['sad']\n",
    "y2 = all_reactions['neutral']\n",
    "y3 = all_reactions['primer 8ms']\n",
    "y4 = all_reactions['primer 16ms']\n",
    "y5 = all_reactions['primer 25ms']\n",
    "y6 = all_reactions['primer 141ms']\n",
    "\n",
    "x = all_reactions['ID']\n",
    "\n",
    "##Add data to plot\n",
    "interactive_all_reactions.add_trace(go.Box(y=y1, name=\"sad\",fillcolor='rgb(240,128,128)', line=dict(color='rgb(205,92,92)')))\n",
    "interactive_all_reactions.add_trace(go.Box(y=y2, name=\"neutral\",fillcolor='rgb(255,255,0)', line=dict(color='rgb(255,215,0)')))\n",
    "interactive_all_reactions.add_trace(go.Box(y=y0, name=\"happy\",fillcolor='rgb(144,238,144)', line=dict(color='rgb(50,205,50)')))                      \n",
    "interactive_all_reactions.add_trace(go.Box(y=y3, name=\"primer 8ms\",fillcolor='rgb(224,255,255)', line=dict(color='rgb(176,224,230)')))\n",
    "interactive_all_reactions.add_trace(go.Box(y=y4, name=\"primer 16ms\",fillcolor='rgb(175,238,238)', line=dict(color='rgb(72,209,204)')))\n",
    "interactive_all_reactions.add_trace(go.Box(y=y5, name=\"primer 25ms\",fillcolor='rgb(135,206,250)', line=dict(color='rgb(100,149,237)')))\n",
    "interactive_all_reactions.add_trace(go.Box(y=y6, name=\"primer 141ms\",fillcolor='rgb(65,105,225)', line=dict(color='rgb(0,0,255)')))\n",
    "\n",
    "\n",
    "## Show every value with boxpoints = all, show mean with boxmean = True,\n",
    "#change color with marker_color = steelblue,\n",
    "#change hover information\n",
    "interactive_all_reactions.update_traces(boxpoints='all', jitter=0, boxmean=True,\n",
    "                                   text=x, hoverinfo=['y','text'])\n",
    "\n",
    "# Add title\n",
    "interactive_all_reactions.update_layout(\n",
    "    title={\n",
    "        'text': \"Reaction Time\",\n",
    "        'y':0.9,\n",
    "        'x':0.5,\n",
    "        'xanchor': 'center',\n",
    "        'yanchor': 'top'},\n",
    "    xaxis_title=\"Conditions\",\n",
    "    yaxis_title=\"Time in seconds\")#,\n",
    "    #font=dict(\n",
    "            #family=\"Courier New, monospace\",\n",
    "            #size=18,\n",
    "            #color=\"black\"))\n",
    "#interactive_accuracy.update_layout(title_text=\"Accuracy\",title_font_size=30)\n",
    "\n",
    "##Show plot\n",
    "interactive_all_reactions.show()\n",
    "#save as html\n",
    "interactive_all_reactions.write_html(\"C:/Users/juhoffmann/OneDrive - Uniklinik RWTH Aachen/Auswertung/Pilot2/figures/All_Reactiontimes_selected.html\")"
   ]
  },
  {
   "cell_type": "markdown",
   "metadata": {},
   "source": [
    "# Mean Accuracy"
   ]
  },
  {
   "cell_type": "code",
   "execution_count": null,
   "metadata": {},
   "outputs": [],
   "source": [
    "##read in Dataset\n",
    "#mean_reaction = pd.read_csv('/Users/julia/OneDrive - Uniklinik RWTH Aachen/Auswertung/second_level/Mean_Reactions_selected.csv', delimiter=';')\n",
    "#mean_reaction = mean_reaction.drop(['Unnamed: 0'], axis=1)\n",
    "#mean_reaction"
   ]
  },
  {
   "cell_type": "code",
   "execution_count": null,
   "metadata": {},
   "outputs": [],
   "source": [
    "mean_accuracy = pd.read_csv('C:/Users/juhoffmann/OneDrive - Uniklinik RWTH Aachen/Auswertung/Pilot2/SecondLevel/Mean_Accuracy_selected.csv', delimiter=';')\n",
    "mean_accuracy = mean_accuracy.drop(['Unnamed: 0'], axis=1)\n",
    "#mean_accuracy = mean_accuracy.drop(['name'], axis=1)\n",
    "mean_accuracy = mean_accuracy.drop(['number of reactions'], axis=1)\n",
    "mean_accuracy = mean_accuracy.drop(['number of correct answers'], axis=1)\n",
    "mean_accuracy = mean_accuracy.rename(columns={\"accuracy\": \"mean accuracy\"})\n",
    "mean_accuracy"
   ]
  },
  {
   "cell_type": "code",
   "execution_count": null,
   "metadata": {},
   "outputs": [],
   "source": [
    "#mean_accuracy = pd.read_csv('/Users/julia/OneDrive - Uniklinik RWTH Aachen/Auswertung/second_level/Mean_Accuracy_selected.csv', delimiter=';')\n",
    "#mean_accuracy = mean_accuracy.drop(['Unnamed: 0'], axis=1)\n",
    "\n",
    "##Create Figure out of Dataframe\n",
    "interactive_accuracy = go.Figure()\n",
    "\n",
    "##Define Data for different Plots\n",
    "y0 = mean_accuracy['mean accuracy']\n",
    "y1 = mean_accuracy['accuracy happy']\n",
    "y2 = mean_accuracy['accuracy sad']\n",
    "y3 = mean_accuracy['accuracy neutral']\n",
    "y4 = mean_accuracy['accuracy 8ms']\n",
    "y5 = mean_accuracy['accuracy 16ms']\n",
    "y6 = mean_accuracy['accuracy 25ms']\n",
    "y7 = mean_accuracy['accuracy 141ms']\n",
    "\n",
    "x = mean_accuracy['name']\n",
    "\n",
    "##Add data to d\n",
    "interactive_accuracy.add_trace(go.Box(y=y0, name=\"total trials\",fillcolor='rgb(0,191,255)', line=dict(color='rgb(30,144,255)')))                      \n",
    "interactive_accuracy.add_trace(go.Box(y=y2, name=\"sad\",fillcolor='rgb(240,128,128)', line=dict(color='rgb(205,92,92)')))\n",
    "interactive_accuracy.add_trace(go.Box(y=y3, name=\"neutral\",fillcolor='rgb(255,255,0)', line=dict(color='rgb(255,215,0)')))\n",
    "interactive_accuracy.add_trace(go.Box(y=y1, name=\"happy\",fillcolor='rgb(144,238,144)', line=dict(color='rgb(50,205,50)')))\n",
    "interactive_accuracy.add_trace(go.Box(y=y4, name=\"8ms\",fillcolor='rgb(224,255,255)', line=dict(color='rgb(176,224,230)')))\n",
    "interactive_accuracy.add_trace(go.Box(y=y5, name=\"16ms\",fillcolor='rgb(175,238,238)', line=dict(color='rgb(72,209,204)')))\n",
    "interactive_accuracy.add_trace(go.Box(y=y6, name=\"25ms\",fillcolor='rgb(135,206,250)', line=dict(color='rgb(100,149,237)')))\n",
    "interactive_accuracy.add_trace(go.Box(y=y7, name=\"141ms\",fillcolor='rgb(65,105,225)', line=dict(color='rgb(0,0,255)')))\n",
    "\n",
    "## Show every value with boxpoints = all, show mean with boxmean = True,\n",
    "#change color with marker_color = steelblue,\n",
    "#change hover information\n",
    "interactive_accuracy.update_traces(boxpoints='all', jitter=0, boxmean=True,\n",
    "                                   text=x, hoverinfo=['y','text'])\n",
    "\n",
    "# Add title\n",
    "interactive_accuracy.update_layout(\n",
    "    title={\n",
    "        'text': \"Mean Accuracy\",\n",
    "        'y':0.9,\n",
    "        'x':0.5,\n",
    "        'xanchor': 'center',\n",
    "        'yanchor': 'top'},\n",
    "    xaxis_title=\"Conditions\",\n",
    "    #xaxis=dict(showgrid=True, ticks=\"outside\", tickson=\"boundaries\"),\n",
    "    yaxis_title=\"Accuracy rate in %\")\n",
    "\n",
    "interactive_accuracy.update_yaxes(tickvals=[10,20,30,40,50,60,70,80,90,100])\n",
    "##Show plot\n",
    "interactive_accuracy.show()\n",
    "#save as html\n",
    "interactive_accuracy.write_html(\"C:/Users/juhoffmann/OneDrive - Uniklinik RWTH Aachen/Auswertung/Pilot2/figures/Mean_Accuracy_selected.html\")\n",
    "\n",
    "\n",
    "##for curves:\n",
    "#interactive_accuracy.update_layout(hovermode='x unified')\n",
    "#interactive_accuracy.update_traces(hoverinfo=[\"name\"])"
   ]
  },
  {
   "cell_type": "markdown",
   "metadata": {},
   "source": [
    "# Mean Reaction Times"
   ]
  },
  {
   "cell_type": "code",
   "execution_count": null,
   "metadata": {},
   "outputs": [],
   "source": [
    "mean_reactions = pd.read_csv('C:/Users/juhoffmann/OneDrive - Uniklinik RWTH Aachen/Auswertung/Pilot2/SecondLevel/Mean_Reactions_selected.csv', delimiter=';')\n",
    "mean_reactions = mean_reactions.drop(['Unnamed: 0'], axis=1)\n",
    "#mean_reactions"
   ]
  },
  {
   "cell_type": "code",
   "execution_count": null,
   "metadata": {},
   "outputs": [],
   "source": [
    "##Create Figure out of Dataframe\n",
    "interactive_mean_reactions = go.Figure()\n",
    "\n",
    "##Define Data for different Plots\n",
    "y0 = mean_reactions['mean reaction time']\n",
    "y1 = mean_reactions['mean reaction time happy']\n",
    "y2 = mean_reactions['mean reaction time sad']\n",
    "y3 = mean_reactions['mean reaction time neutral']\n",
    "y4 = mean_reactions['mean reaction time primer 8ms']\n",
    "y5 = mean_reactions['mean reaction time primer 16ms']\n",
    "y6 = mean_reactions['mean reaction time primer 25ms']\n",
    "y7 = mean_reactions['mean reaction time primer 141ms']\n",
    "\n",
    "#x = mean_reactions['name']\n",
    "\n",
    "##Add data to d\n",
    "interactive_mean_reactions.add_trace(go.Box(y=y0, name=\"total trials\",fillcolor='rgb(0,191,255)', line=dict(color='rgb(30,144,255)')))                      \n",
    "interactive_mean_reactions.add_trace(go.Box(y=y2, name=\"sad\",fillcolor='rgb(240,128,128)', line=dict(color='rgb(205,92,92)')))\n",
    "interactive_mean_reactions.add_trace(go.Box(y=y3, name=\"neutral\",fillcolor='rgb(255,255,0)', line=dict(color='rgb(255,215,0)')))\n",
    "interactive_mean_reactions.add_trace(go.Box(y=y1, name=\"happy\",fillcolor='rgb(144,238,144)', line=dict(color='rgb(50,205,50)')))\n",
    "interactive_mean_reactions.add_trace(go.Box(y=y4, name=\"primer 8ms\",fillcolor='rgb(224,255,255)', line=dict(color='rgb(176,224,230)')))\n",
    "interactive_mean_reactions.add_trace(go.Box(y=y5, name=\"primer 16ms\",fillcolor='rgb(175,238,238)', line=dict(color='rgb(72,209,204)')))\n",
    "interactive_mean_reactions.add_trace(go.Box(y=y6, name=\"primer 25ms\",fillcolor='rgb(135,206,250)', line=dict(color='rgb(100,149,237)')))\n",
    "interactive_mean_reactions.add_trace(go.Box(y=y7, name=\"primer 141ms\",fillcolor='rgb(65,105,225)', line=dict(color='rgb(0,0,255)')))\n",
    "\n",
    "## Show every value with boxpoints = all, show mean with boxmean = True,\n",
    "#change color with marker_color = steelblue,\n",
    "#change hover information\n",
    "interactive_mean_reactions.update_traces(boxpoints='all', jitter=0, boxmean=True,\n",
    "                                   text=mean_reactions.name[:], hoverinfo=['y','text'])\n",
    "\n",
    "# Add title\n",
    "interactive_mean_reactions.update_layout(\n",
    "    title={\n",
    "        'text': \"Mean Reaction Time\",\n",
    "        'y':0.9,\n",
    "        'x':0.5,\n",
    "        'xanchor': 'center',\n",
    "        'yanchor': 'top'},\n",
    "    xaxis_title=\"Conditions\",\n",
    "    yaxis_title=\"Time in seconds\")\n",
    "\n",
    "##Show plot\n",
    "interactive_mean_reactions.show()\n",
    "interactive_mean_reactions.write_html(\"C:/Users/juhoffmann/OneDrive - Uniklinik RWTH Aachen/Auswertung/Pilot2/figures/Mean_Reaction_selected.html\")"
   ]
  },
  {
   "cell_type": "code",
   "execution_count": null,
   "metadata": {},
   "outputs": [],
   "source": []
  },
  {
   "cell_type": "code",
   "execution_count": null,
   "metadata": {},
   "outputs": [],
   "source": [
    "#mean_reactions.name"
   ]
  },
  {
   "cell_type": "code",
   "execution_count": null,
   "metadata": {},
   "outputs": [],
   "source": []
  },
  {
   "cell_type": "markdown",
   "metadata": {},
   "source": [
    "# Colors for graphs\n",
    "\n",
    "aliceblue, antiquewhite, aqua, aquamarine, azure,\n",
    "beige, bisque, black, blanchedalmond, blue,\n",
    "blueviolet, brown, burlywood, cadetblue,\n",
    "chartreuse, chocolate, coral, cornflowerblue,\n",
    "cornsilk, crimson, cyan, darkblue, darkcyan,\n",
    "darkgoldenrod, darkgray, darkgrey, darkgreen,\n",
    "darkkhaki, darkmagenta, darkolivegreen, darkorange,\n",
    "darkorchid, darkred, darksalmon, darkseagreen,\n",
    "darkslateblue, darkslategray, darkslategrey,\n",
    "darkturquoise, darkviolet, deeppink, deepskyblue,\n",
    "dimgray, dimgrey, dodgerblue, firebrick,\n",
    "floralwhite, forestgreen, fuchsia, gainsboro,\n",
    "ghostwhite, gold, goldenrod, gray, grey, green,\n",
    "greenyellow, honeydew, hotpink, indianred, indigo,\n",
    "ivory, khaki, lavender, lavenderblush, lawngreen,\n",
    "lemonchiffon, lightblue, lightcoral, lightcyan,\n",
    "lightgoldenrodyellow, lightgray, lightgrey,\n",
    "lightgreen, lightpink, lightsalmon, lightseagreen,\n",
    "lightskyblue, lightslategray, lightslategrey,\n",
    "lightsteelblue, lightyellow, lime, limegreen,\n",
    "linen, magenta, maroon, mediumaquamarine,\n",
    "mediumblue, mediumorchid, mediumpurple,\n",
    "mediumseagreen, mediumslateblue, mediumspringgreen,\n",
    "mediumturquoise, mediumvioletred, midnightblue,\n",
    "mintcream, mistyrose, moccasin, navajowhite, navy,\n",
    "oldlace, olive, olivedrab, orange, orangered,\n",
    "orchid, palegoldenrod, palegreen, paleturquoise,\n",
    "palevioletred, papayawhip, peachpuff, peru, pink,\n",
    "plum, powderblue, purple, red, rosybrown,\n",
    "royalblue, saddlebrown, salmon, sandybrown,\n",
    "seagreen, seashell, sienna, silver, skyblue,\n",
    "slateblue, slategray, slategrey, snow, springgreen,\n",
    "steelblue, tan, teal, thistle, tomato, turquoise,\n",
    "violet, wheat, white, whitesmoke, yellow,\n",
    "yellowgreen"
   ]
  },
  {
   "cell_type": "code",
   "execution_count": null,
   "metadata": {},
   "outputs": [],
   "source": []
  },
  {
   "cell_type": "code",
   "execution_count": null,
   "metadata": {},
   "outputs": [],
   "source": []
  },
  {
   "cell_type": "code",
   "execution_count": null,
   "metadata": {},
   "outputs": [],
   "source": []
  }
 ],
 "metadata": {
  "kernelspec": {
   "display_name": "Pilot_Analysis_UK",
   "language": "python",
   "name": "pilot_analysis"
  },
  "language_info": {
   "codemirror_mode": {
    "name": "ipython",
    "version": 3
   },
   "file_extension": ".py",
   "mimetype": "text/x-python",
   "name": "python",
   "nbconvert_exporter": "python",
   "pygments_lexer": "ipython3",
   "version": "3.7.9"
  }
 },
 "nbformat": 4,
 "nbformat_minor": 2
}
